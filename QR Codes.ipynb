{
 "cells": [
  {
   "cell_type": "code",
   "execution_count": 1,
   "id": "44b17246",
   "metadata": {},
   "outputs": [
    {
     "name": "stdout",
     "output_type": "stream",
     "text": [
      "Collecting segnoNote: you may need to restart the kernel to use updated packages.\n",
      "\n",
      "  Downloading segno-1.5.2-py2.py3-none-any.whl (83 kB)\n",
      "     ---------------------------------------- 83.0/83.0 kB 1.2 MB/s eta 0:00:00\n",
      "Installing collected packages: segno\n",
      "Successfully installed segno-1.5.2\n"
     ]
    }
   ],
   "source": [
    "pip install segno"
   ]
  },
  {
   "cell_type": "code",
   "execution_count": 2,
   "id": "0c76a1c0",
   "metadata": {},
   "outputs": [],
   "source": [
    "import segno\n",
    "# Simple QR Code\n",
    " borders \n",
    "price_tag = segno.make(\"Hello World\")\n",
    "price_tag.save(\"hello-world.png\")"
   ]
  },
  {
   "cell_type": "code",
   "execution_count": 3,
   "id": "884b4db8",
   "metadata": {},
   "outputs": [],
   "source": [
    "#QR Code with\n",
    "\n",
    "qrcode = segno.make('Vampire Blues')\n",
    "qrcode.save('vampire-blues.png', border=5)"
   ]
  },
  {
   "cell_type": "code",
   "execution_count": 4,
   "id": "341e8360",
   "metadata": {},
   "outputs": [],
   "source": [
    "# QR Code with different size\n",
    "\n",
    "qrcode = segno.make('Welcome')\n",
    "qrcode.save('welcome.png', scale=10)"
   ]
  },
  {
   "cell_type": "code",
   "execution_count": 5,
   "id": "b421a796",
   "metadata": {},
   "outputs": [],
   "source": [
    "# QR Code of any URL\n",
    "\n",
    "video = segno.make('https://www.youtube.com/watch?v=CAnbzapDJLs')\n",
    "video.save('Video.png', dark=\"red\", light=\"#323524\", scale=5)"
   ]
  },
  {
   "cell_type": "code",
   "execution_count": 7,
   "id": "5faa0933",
   "metadata": {},
   "outputs": [],
   "source": [
    "from segno import helpers\n",
    "qrcode = helpers.make_mecard(name='Me', email='me@example.com', phone='+921234567')\n",
    "qrcode.designator\n",
    "'3-L'\n",
    "# Some params accept multiple values, like email, phone, url\n",
    "#qrcode = helpers.make_mecard(name='Shittu Olumide', email=('me@example.com', 'email@example.com'),url=['http://www.example.com', 'https://example.come/~olu'])\n",
    "qrcode.save('mycontact.png', scale=5)"
   ]
  },
  {
   "cell_type": "code",
   "execution_count": null,
   "id": "93c13971",
   "metadata": {},
   "outputs": [],
   "source": []
  }
 ],
 "metadata": {
  "kernelspec": {
   "display_name": "Python 3 (ipykernel)",
   "language": "python",
   "name": "python3"
  },
  "language_info": {
   "codemirror_mode": {
    "name": "ipython",
    "version": 3
   },
   "file_extension": ".py",
   "mimetype": "text/x-python",
   "name": "python",
   "nbconvert_exporter": "python",
   "pygments_lexer": "ipython3",
   "version": "3.9.13"
  }
 },
 "nbformat": 4,
 "nbformat_minor": 5
}
